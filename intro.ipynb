{
 "cells": [
  {
   "cell_type": "markdown",
   "id": "d48bf1da",
   "metadata": {},
   "source": [
    "Introduction to Python"
   ]
  },
  {
   "cell_type": "code",
   "execution_count": 1,
   "id": "f31ab997",
   "metadata": {},
   "outputs": [
    {
     "name": "stdout",
     "output_type": "stream",
     "text": [
      "Hello World\n"
     ]
    }
   ],
   "source": [
    "print('Hello World')"
   ]
  },
  {
   "cell_type": "markdown",
   "id": "6b3c968c",
   "metadata": {},
   "source": [
    "To know the version of python "
   ]
  },
  {
   "cell_type": "code",
   "execution_count": 2,
   "id": "1b9c8a92",
   "metadata": {},
   "outputs": [
    {
     "name": "stdout",
     "output_type": "stream",
     "text": [
      "Python version: 3.13.5 | packaged by Anaconda, Inc. | (main, Jun 12 2025, 16:37:03) [MSC v.1929 64 bit (AMD64)]\n"
     ]
    }
   ],
   "source": [
    "import sys\n",
    "print('Python version:', sys.version)"
   ]
  },
  {
   "cell_type": "markdown",
   "id": "f89c4c94",
   "metadata": {},
   "source": [
    "Python Variables\n",
    "\n",
    "Python has no command for variables for deciding a variable"
   ]
  },
  {
   "cell_type": "code",
   "execution_count": 3,
   "id": "9b349536",
   "metadata": {},
   "outputs": [
    {
     "name": "stdout",
     "output_type": "stream",
     "text": [
      "5\n",
      "John\n"
     ]
    }
   ],
   "source": [
    "x=5\n",
    "y=\"John\"\n",
    "print(x)\n",
    "print(y)"
   ]
  },
  {
   "cell_type": "markdown",
   "id": "4291c53b",
   "metadata": {},
   "source": [
    "Comments in Python"
   ]
  },
  {
   "cell_type": "code",
   "execution_count": 6,
   "id": "027e910b",
   "metadata": {},
   "outputs": [
    {
     "name": "stdout",
     "output_type": "stream",
     "text": [
      "Comments in Python do not affect the code execution.\n"
     ]
    }
   ],
   "source": [
    "# This is a comment\n",
    "print(\"Comments in Python do not affect the code execution.\")"
   ]
  },
  {
   "cell_type": "markdown",
   "id": "99aaee0a",
   "metadata": {},
   "source": [
    "Many Statments"
   ]
  },
  {
   "cell_type": "markdown",
   "id": "95984732",
   "metadata": {},
   "source": [
    "The first statement is executed first (print \"Hello World!\").\n",
    "Then the second statement is executed (print \"Have a good day.\").\n",
    "And at last, the third statement is executed (print \"Learning Python is fun!\")."
   ]
  },
  {
   "cell_type": "code",
   "execution_count": 7,
   "id": "b1bb3ecc",
   "metadata": {},
   "outputs": [
    {
     "name": "stdout",
     "output_type": "stream",
     "text": [
      "Hello World\n",
      "in multiple lines\n",
      "Learning Python is fun!\n"
     ]
    }
   ],
   "source": [
    "print(\"Hello World\")\n",
    "print(\"in multiple lines\")\n",
    "print(\"Learning Python is fun!\")"
   ]
  },
  {
   "cell_type": "markdown",
   "id": "beebbaa5",
   "metadata": {},
   "source": [
    "Semicolons in Python are (Optional,Rarely used)\n",
    "\n",
    "Semicolons are optional in Python. You can write multiple statements on one line by separating them with ; but this is rarely used because it makes it hard to read:\n",
    "\n"
   ]
  },
  {
   "cell_type": "code",
   "execution_count": 8,
   "id": "02d1ee9f",
   "metadata": {},
   "outputs": [
    {
     "name": "stdout",
     "output_type": "stream",
     "text": [
      "Hello\n",
      "World\n",
      "Beautiful\n"
     ]
    }
   ],
   "source": [
    "print(\"Hello\"); print(\"World\"); print(\"Beautiful\")  # Multiple statements on one line using semicolon"
   ]
  },
  {
   "cell_type": "markdown",
   "id": "2e4f1160",
   "metadata": {},
   "source": [
    "However, if you put two statements on the same line without a separator (newline or ;), Python will give an error:"
   ]
  },
  {
   "cell_type": "code",
   "execution_count": 9,
   "id": "2ede8bb5",
   "metadata": {},
   "outputs": [
    {
     "ename": "SyntaxError",
     "evalue": "invalid syntax (2552546375.py, line 1)",
     "output_type": "error",
     "traceback": [
      "  \u001b[36mCell\u001b[39m\u001b[36m \u001b[39m\u001b[32mIn[9]\u001b[39m\u001b[32m, line 1\u001b[39m\n\u001b[31m    \u001b[39m\u001b[31mprint(\"Hello World\") print(\"Have a good day.\")\u001b[39m\n                         ^\n\u001b[31mSyntaxError\u001b[39m\u001b[31m:\u001b[39m invalid syntax\n"
     ]
    }
   ],
   "source": [
    "print(\"Hello World\") print(\"Have a good day.\")"
   ]
  },
  {
   "cell_type": "markdown",
   "id": "4bf184d1",
   "metadata": {},
   "source": [
    "Print Without a New Line\n",
    "By default, the print() function ends with a new line.\n",
    "\n",
    "If you want to print multiple words on the same line, you can use the end parameter:"
   ]
  },
  {
   "cell_type": "code",
   "execution_count": 10,
   "id": "3c39c536",
   "metadata": {},
   "outputs": [
    {
     "name": "stdout",
     "output_type": "stream",
     "text": [
      "Hello World! I will print on the same line.\n"
     ]
    }
   ],
   "source": [
    "print(\"Hello World!\", end=\" \")\n",
    "print(\"I will print on the same line.\")"
   ]
  },
  {
   "cell_type": "markdown",
   "id": "2cf01008",
   "metadata": {},
   "source": [
    "Print Numbers\n",
    "You can also use the print() function to display numbers:\n",
    "\n",
    "However, unlike text, we don't put numbers inside double quotes:"
   ]
  },
  {
   "cell_type": "code",
   "execution_count": 11,
   "id": "60e63523",
   "metadata": {},
   "outputs": [
    {
     "name": "stdout",
     "output_type": "stream",
     "text": [
      "2\n",
      "203\n",
      "2048\n"
     ]
    }
   ],
   "source": [
    "print(2)\n",
    "print(203)\n",
    "print(2048)"
   ]
  },
  {
   "cell_type": "markdown",
   "id": "0abe376c",
   "metadata": {},
   "source": [
    "You can also do math inside the print()"
   ]
  },
  {
   "cell_type": "code",
   "execution_count": 12,
   "id": "2401e7e5",
   "metadata": {},
   "outputs": [
    {
     "name": "stdout",
     "output_type": "stream",
     "text": [
      "5\n",
      "812\n",
      "10.0\n"
     ]
    }
   ],
   "source": [
    "print(2+3)\n",
    "print(203*4)\n",
    "print(210/21)\n"
   ]
  },
  {
   "cell_type": "markdown",
   "id": "b03dd609",
   "metadata": {},
   "source": [
    "Mix Text and Numbers\n",
    "You can combine text and numbers in one output by separating them with a comma:"
   ]
  },
  {
   "cell_type": "code",
   "execution_count": 13,
   "id": "f2a9874b",
   "metadata": {},
   "outputs": [
    {
     "name": "stdout",
     "output_type": "stream",
     "text": [
      "I am 35 years old.\n"
     ]
    }
   ],
   "source": [
    "print(\"I am\", 35, \"years old.\")"
   ]
  },
  {
   "cell_type": "markdown",
   "id": "1aee1ac5",
   "metadata": {},
   "source": [
    "Variables\n",
    "\n",
    "Variables are containers for storing data values"
   ]
  },
  {
   "cell_type": "markdown",
   "id": "32f734de",
   "metadata": {},
   "source": [
    "Creating Variables"
   ]
  },
  {
   "cell_type": "code",
   "execution_count": 15,
   "id": "f6dbf4bf",
   "metadata": {},
   "outputs": [
    {
     "name": "stdout",
     "output_type": "stream",
     "text": [
      "5\n",
      "John\n"
     ]
    }
   ],
   "source": [
    "x=5\n",
    "y=\"John\"\n",
    "print(x)\n",
    "print(y)"
   ]
  },
  {
   "cell_type": "markdown",
   "id": "d2e919fd",
   "metadata": {},
   "source": [
    "Variables do not need to be declared with any particular type, and can even change type after they have been set"
   ]
  },
  {
   "cell_type": "code",
   "execution_count": 17,
   "id": "72a00774",
   "metadata": {},
   "outputs": [
    {
     "name": "stdout",
     "output_type": "stream",
     "text": [
      "Surya\n"
     ]
    }
   ],
   "source": [
    "x=4\n",
    "x=\"Surya\"\n",
    "print(x)"
   ]
  },
  {
   "cell_type": "markdown",
   "id": "f01db586",
   "metadata": {},
   "source": [
    "Casting\n",
    "\n",
    "If you want to specify the data type of a variable, this can be done with casting."
   ]
  },
  {
   "cell_type": "code",
   "execution_count": 20,
   "id": "d69400c0",
   "metadata": {},
   "outputs": [
    {
     "name": "stdout",
     "output_type": "stream",
     "text": [
      "<class 'str'>\n",
      "<class 'int'>\n",
      "<class 'float'>\n"
     ]
    }
   ],
   "source": [
    "x= str(3)\n",
    "y= int(3)\n",
    "z= float(3)\n",
    "print(type(x))\n",
    "print(type(y))\n",
    "print(type(z))"
   ]
  },
  {
   "cell_type": "markdown",
   "id": "0995fb46",
   "metadata": {},
   "source": [
    "Get the Type\n",
    "You can get the data type of a variable with the type() function"
   ]
  },
  {
   "cell_type": "code",
   "execution_count": 21,
   "id": "c9287889",
   "metadata": {},
   "outputs": [
    {
     "name": "stdout",
     "output_type": "stream",
     "text": [
      "<class 'int'>\n",
      "<class 'str'>\n"
     ]
    }
   ],
   "source": [
    "x=5\n",
    "y=\"John\"\n",
    "print(type(x))\n",
    "print(type(y))"
   ]
  },
  {
   "cell_type": "markdown",
   "id": "b0740a03",
   "metadata": {},
   "source": [
    "Single Quotes or Double Quotes ?\n",
    "\n",
    "String variables can be declared either by using single or double quotes:\n"
   ]
  },
  {
   "cell_type": "code",
   "execution_count": 22,
   "id": "df8febab",
   "metadata": {},
   "outputs": [
    {
     "name": "stdout",
     "output_type": "stream",
     "text": [
      "Surya\n",
      "Sasank\n"
     ]
    }
   ],
   "source": [
    "x='Surya'\n",
    "# both are valid\n",
    "y= \"Sasank\"\n",
    "\n",
    "print(x)\n",
    "print(y)"
   ]
  },
  {
   "cell_type": "markdown",
   "id": "cbed15f7",
   "metadata": {},
   "source": [
    "Case Sensitive\n",
    "\n",
    "Variables names are case-sensitive."
   ]
  },
  {
   "cell_type": "code",
   "execution_count": 23,
   "id": "4f1cd4a1",
   "metadata": {},
   "outputs": [
    {
     "name": "stdout",
     "output_type": "stream",
     "text": [
      "4\n",
      "Sasank\n"
     ]
    }
   ],
   "source": [
    "a=4\n",
    "A= \"Sasank\"\n",
    "print(a)\n",
    "print(A)"
   ]
  },
  {
   "cell_type": "code",
   "execution_count": null,
   "id": "76472dc1",
   "metadata": {},
   "outputs": [],
   "source": []
  }
 ],
 "metadata": {
  "kernelspec": {
   "display_name": "base",
   "language": "python",
   "name": "python3"
  },
  "language_info": {
   "codemirror_mode": {
    "name": "ipython",
    "version": 3
   },
   "file_extension": ".py",
   "mimetype": "text/x-python",
   "name": "python",
   "nbconvert_exporter": "python",
   "pygments_lexer": "ipython3",
   "version": "3.13.5"
  }
 },
 "nbformat": 4,
 "nbformat_minor": 5
}
