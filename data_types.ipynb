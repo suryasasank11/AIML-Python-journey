{
 "cells": [
  {
   "cell_type": "markdown",
   "id": "b76524f5",
   "metadata": {},
   "source": [
    "Python Data Types"
   ]
  },
  {
   "cell_type": "markdown",
   "id": "e1b53897",
   "metadata": {},
   "source": [
    "Built-in Data Types\n",
    "\n",
    "In programming, data type is an important concept.\n",
    "\n",
    "Variables can store data of different types, and different types can do different things.\n",
    "\n",
    "Python has the following data types built-in by default, in these categories:\n",
    "\n",
    "Text Type:\tstr\n",
    "\n",
    "Numeric Types:\tint, float, complex\n",
    "\n",
    "Sequence Types:\tlist, tuple, range\n",
    "\n",
    "Mapping Type:\tdict\n",
    "\n",
    "Set Types:\tset, frozenset\n",
    "\n",
    "Boolean Type:\tbool\n",
    "\n",
    "Binary Types:\tbytes, bytearray, memoryview\n",
    "\n",
    "None Type:\tNoneType"
   ]
  },
  {
   "cell_type": "markdown",
   "id": "c01a5183",
   "metadata": {},
   "source": [
    "Getting the Data Type\n",
    "\n",
    "You can get the data type of any object by using the type() function:"
   ]
  },
  {
   "cell_type": "code",
   "execution_count": 1,
   "id": "073b1401",
   "metadata": {},
   "outputs": [
    {
     "name": "stdout",
     "output_type": "stream",
     "text": [
      "<class 'int'>\n"
     ]
    }
   ],
   "source": [
    "x=5\n",
    "print(type(x))"
   ]
  },
  {
   "cell_type": "code",
   "execution_count": 3,
   "id": "f4fad78f",
   "metadata": {},
   "outputs": [
    {
     "name": "stdout",
     "output_type": "stream",
     "text": [
      "<class 'str'>\n",
      "<class 'int'>\n",
      "<class 'float'>\n",
      "<class 'complex'>\n",
      "<class 'list'>\n",
      "<class 'tuple'>\n",
      "<class 'dict'>\n",
      "<class 'range'>\n",
      "<class 'set'>\n",
      "<class 'frozenset'>\n",
      "<class 'bool'>\n",
      "<class 'dict'>\n"
     ]
    }
   ],
   "source": [
    "x=\"Hello, World\"\n",
    "print(type(x))\n",
    "x=20\n",
    "print(type(x))\n",
    "x=20.5\n",
    "print(type(x))\n",
    "x=1j\n",
    "print(type(x))\n",
    "x=[\"apple\", \"banana\", \"cherry\"]\n",
    "print(type(x))\n",
    "x=(\"apple\", \"banana\", \"cherry\")\n",
    "print(type(x))\n",
    "x={\"name\" : \"Surya\", \"age\" : 21}\n",
    "print(type(x))\n",
    "x=range(6)\n",
    "print(type(x))\n",
    "x={\"apple\", \"banana\", \"cherry\"}\n",
    "print(type(x))\n",
    "x=frozenset({\"apple\", \"banana\", \"cherry\"})\n",
    "print(type(x))\n",
    "x=True\n",
    "print(type(x))\n",
    "x={\"name\":\"Surya\", \"age\":21}\n",
    "print(type(x))"
   ]
  },
  {
   "cell_type": "code",
   "execution_count": 4,
   "id": "342b2d9a",
   "metadata": {},
   "outputs": [],
   "source": [
    "x = complex(1j)\t\n",
    "x = list((\"apple\", \"banana\", \"cherry\"))\t\t\n",
    "x = tuple((\"apple\", \"banana\", \"cherry\"))\t\n",
    "x = range(6)\t\t\n",
    "x = dict(name=\"John\", age=36)\t\n",
    "x = set((\"apple\", \"banana\", \"cherry\"))\t\n",
    "x = frozenset((\"apple\", \"banana\", \"cherry\"))\n",
    "x = bool(5)\t\n",
    "x = bytes(5)\t\n",
    "x = bytearray(5)\t\n",
    "x = memoryview(bytes(5))"
   ]
  },
  {
   "cell_type": "markdown",
   "id": "adfa9c2e",
   "metadata": {},
   "source": []
  }
 ],
 "metadata": {
  "kernelspec": {
   "display_name": "base",
   "language": "python",
   "name": "python3"
  },
  "language_info": {
   "codemirror_mode": {
    "name": "ipython",
    "version": 3
   },
   "file_extension": ".py",
   "mimetype": "text/x-python",
   "name": "python",
   "nbconvert_exporter": "python",
   "pygments_lexer": "ipython3",
   "version": "3.13.5"
  }
 },
 "nbformat": 4,
 "nbformat_minor": 5
}
