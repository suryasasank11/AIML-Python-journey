{
 "cells": [
  {
   "cell_type": "markdown",
   "id": "0659f8b4",
   "metadata": {},
   "source": [
    "Python Variable Names"
   ]
  },
  {
   "cell_type": "markdown",
   "id": "6ce782d6",
   "metadata": {},
   "source": [
    "Variable Names\n",
    "\n",
    "A variable can have a short name (like x and y) or a more descriptive name (age, carname, total_volume).\n",
    "\n",
    "Rules for Python variables:\n",
    "\n",
    "A variable name must start with a letter or the underscore character\n",
    "\n",
    "A variable name cannot start with a number\n",
    "\n",
    "A variable name can only contain alpha-numeric characters and underscores (A-z, 0-9, and _ )\n",
    "\n",
    "Variable names are case-sensitive (age, Age and AGE are three different variables)\n",
    "\n",
    "A variable name cannot be any of the Python keywords."
   ]
  },
  {
   "cell_type": "code",
   "execution_count": 1,
   "id": "7313fb4b",
   "metadata": {},
   "outputs": [
    {
     "name": "stdout",
     "output_type": "stream",
     "text": [
      "Surya\n",
      "Sasank\n",
      "Sasank2\n",
      "Sasank3\n",
      "Sasank4\n",
      "Sasank5\n"
     ]
    }
   ],
   "source": [
    "myvar='Surya'\n",
    "my_var='Sasank'\n",
    "_my_var='Sasank2'\n",
    "myVar='Sasank3'\n",
    "MYVAR='Sasank4'\n",
    "myvar2='Sasank5'\n",
    "print(myvar)\n",
    "print(my_var)\n",
    "print(_my_var)\n",
    "print(myVar)\n",
    "print(MYVAR)\n",
    "print(myvar2)\n",
    "#valid variable names"
   ]
  },
  {
   "cell_type": "markdown",
   "id": "8832caa4",
   "metadata": {},
   "source": [
    "Example\n",
    "Illegal variable names:"
   ]
  },
  {
   "cell_type": "code",
   "execution_count": 2,
   "id": "63e49627",
   "metadata": {},
   "outputs": [
    {
     "ename": "SyntaxError",
     "evalue": "invalid decimal literal (2185399839.py, line 1)",
     "output_type": "error",
     "traceback": [
      "  \u001b[36mCell\u001b[39m\u001b[36m \u001b[39m\u001b[32mIn[2]\u001b[39m\u001b[32m, line 1\u001b[39m\n\u001b[31m    \u001b[39m\u001b[31m2myvar = \"John\"\u001b[39m\n    ^\n\u001b[31mSyntaxError\u001b[39m\u001b[31m:\u001b[39m invalid decimal literal\n"
     ]
    }
   ],
   "source": [
    "2myvar = \"John\"\n",
    "my-var = \"John\"\n",
    "my var = \"John\""
   ]
  },
  {
   "cell_type": "markdown",
   "id": "a9dc0ada",
   "metadata": {},
   "source": [
    "Multi Words Variable Names\n",
    "\n",
    "Variable names with more than one word can be difficult to read.\n",
    "\n",
    "There are several techniques you can use to make them more readable:\n",
    "\n",
    "Camel Case:\n",
    "\n",
    "Each word, except the first, starts with a capital letter:"
   ]
  },
  {
   "cell_type": "code",
   "execution_count": null,
   "id": "8f46d9a5",
   "metadata": {},
   "outputs": [],
   "source": [
    "myVariableName = \"Surya\""
   ]
  },
  {
   "cell_type": "markdown",
   "id": "45566f59",
   "metadata": {},
   "source": [
    "Pascal Case\n",
    "\n",
    "Each word starts with a capital letter:"
   ]
  },
  {
   "cell_type": "code",
   "execution_count": null,
   "id": "71838f0b",
   "metadata": {},
   "outputs": [],
   "source": [
    "MyVariableName = \"Sasank\""
   ]
  },
  {
   "cell_type": "markdown",
   "id": "a36f5f56",
   "metadata": {},
   "source": [
    "Snake Case\n",
    "\n",
    "Each word is seperated by an underscore character:"
   ]
  },
  {
   "cell_type": "code",
   "execution_count": 3,
   "id": "73a061c4",
   "metadata": {},
   "outputs": [],
   "source": [
    "my_variable_name = \"Sasank\""
   ]
  },
  {
   "cell_type": "markdown",
   "id": "61ff1f9a",
   "metadata": {},
   "source": []
  },
  {
   "cell_type": "markdown",
   "id": "73a1c4a8",
   "metadata": {},
   "source": [
    "Python Variables - Assign Multiple Values"
   ]
  },
  {
   "cell_type": "markdown",
   "id": "a165afa5",
   "metadata": {},
   "source": [
    "Many values to Multiple Variables\n",
    "\n",
    "Python allows you to assign values to multiple variables in one line:"
   ]
  },
  {
   "cell_type": "code",
   "execution_count": 5,
   "id": "80e26ed4",
   "metadata": {},
   "outputs": [
    {
     "name": "stdout",
     "output_type": "stream",
     "text": [
      "Orange\n",
      "Banana\n",
      "Cherry\n"
     ]
    }
   ],
   "source": [
    "x,y,z = \"Orange\",\"Banana\",\"Cherry\"\n",
    "print(x)\n",
    "print(y)\n",
    "print(z)"
   ]
  },
  {
   "cell_type": "markdown",
   "id": "236752e6",
   "metadata": {},
   "source": [
    "One Value to Multiple Variables\n",
    "\n",
    "And you can assign the same value to multiple variables in one line:\n"
   ]
  },
  {
   "cell_type": "code",
   "execution_count": 6,
   "id": "d34f035f",
   "metadata": {},
   "outputs": [
    {
     "name": "stdout",
     "output_type": "stream",
     "text": [
      "Orange\n",
      "Orange\n",
      "Orange\n"
     ]
    }
   ],
   "source": [
    "x=y=z=\"Orange\"\n",
    "print(x)\n",
    "print(y)\n",
    "print(z)"
   ]
  },
  {
   "cell_type": "markdown",
   "id": "6125df8d",
   "metadata": {},
   "source": [
    "Unpack a Collection \n",
    "\n",
    "If you have a collection of values in a list, tuple etc. Python allows you to extract the values into varibales. this is called unpacking."
   ]
  },
  {
   "cell_type": "code",
   "execution_count": 7,
   "id": "1d63ba28",
   "metadata": {},
   "outputs": [
    {
     "name": "stdout",
     "output_type": "stream",
     "text": [
      "apple\n",
      "banana\n",
      "cherry\n"
     ]
    }
   ],
   "source": [
    "fruits = [\"apple\", \"banana\", \"cherry\"]\n",
    "x, y, z = fruits\n",
    "print(x)\n",
    "print(y)\n",
    "print(z)\n"
   ]
  },
  {
   "cell_type": "markdown",
   "id": "e4f8f76e",
   "metadata": {},
   "source": [
    "Output Varibles "
   ]
  },
  {
   "cell_type": "code",
   "execution_count": 8,
   "id": "712432bd",
   "metadata": {},
   "outputs": [
    {
     "name": "stdout",
     "output_type": "stream",
     "text": [
      "Python is Python is awesome\n"
     ]
    }
   ],
   "source": [
    "x= \"Python is awesome\"\n",
    "print(\"Python is \" + x)"
   ]
  },
  {
   "cell_type": "code",
   "execution_count": 9,
   "id": "ee887fc3",
   "metadata": {},
   "outputs": [
    {
     "name": "stdout",
     "output_type": "stream",
     "text": [
      "Python is awesome\n"
     ]
    }
   ],
   "source": [
    "x=\"Python\"\n",
    "y=\"is\"\n",
    "z=\"awesome\"\n",
    "print(x, y, z)\n"
   ]
  },
  {
   "cell_type": "code",
   "execution_count": 10,
   "id": "df5351f9",
   "metadata": {},
   "outputs": [
    {
     "name": "stdout",
     "output_type": "stream",
     "text": [
      "Pythonisawesome\n"
     ]
    }
   ],
   "source": [
    "x=\"Python\"\n",
    "y=\"is\"\n",
    "z=\"awesome\"\n",
    "print(x+ y+z)\n"
   ]
  },
  {
   "cell_type": "code",
   "execution_count": 11,
   "id": "1fb10339",
   "metadata": {},
   "outputs": [
    {
     "name": "stdout",
     "output_type": "stream",
     "text": [
      "15\n"
     ]
    }
   ],
   "source": [
    "x=5\n",
    "y=10\n",
    "print(x + y)\n"
   ]
  },
  {
   "cell_type": "markdown",
   "id": "14772f4e",
   "metadata": {},
   "source": [
    "In the print() function, when you try to combine a string and a number with the + operator, Python will give you an error:"
   ]
  },
  {
   "cell_type": "code",
   "execution_count": 12,
   "id": "3d2f991d",
   "metadata": {},
   "outputs": [
    {
     "ename": "TypeError",
     "evalue": "unsupported operand type(s) for +: 'int' and 'str'",
     "output_type": "error",
     "traceback": [
      "\u001b[31m---------------------------------------------------------------------------\u001b[39m",
      "\u001b[31mTypeError\u001b[39m                                 Traceback (most recent call last)",
      "\u001b[36mCell\u001b[39m\u001b[36m \u001b[39m\u001b[32mIn[12]\u001b[39m\u001b[32m, line 3\u001b[39m\n\u001b[32m      1\u001b[39m x=\u001b[32m5\u001b[39m\n\u001b[32m      2\u001b[39m y=\u001b[33m\"\u001b[39m\u001b[33mSurya\u001b[39m\u001b[33m\"\u001b[39m\n\u001b[32m----> \u001b[39m\u001b[32m3\u001b[39m \u001b[38;5;28mprint\u001b[39m(\u001b[43mx\u001b[49m\u001b[43m \u001b[49m\u001b[43m+\u001b[49m\u001b[43m \u001b[49m\u001b[43my\u001b[49m)\n",
      "\u001b[31mTypeError\u001b[39m: unsupported operand type(s) for +: 'int' and 'str'"
     ]
    }
   ],
   "source": [
    "x=5\n",
    "y=\"Surya\"\n",
    "print(x + y)"
   ]
  },
  {
   "cell_type": "markdown",
   "id": "cd36d70e",
   "metadata": {},
   "source": [
    "Python - Global Variables\n",
    "\n",
    "Variables that are created outside of a function (as in all of the examples in the previous pages) are known as global variables.\n",
    "\n",
    "Global variables can be used by everyone, both inside of functions and outside."
   ]
  },
  {
   "cell_type": "code",
   "execution_count": 14,
   "id": "90587fd0",
   "metadata": {},
   "outputs": [
    {
     "name": "stdout",
     "output_type": "stream",
     "text": [
      "Surya\n"
     ]
    }
   ],
   "source": [
    "x=\"Surya\"\n",
    "\n",
    "def myfunc():\n",
    "    print(x)\n",
    "myfunc()"
   ]
  },
  {
   "cell_type": "markdown",
   "id": "ad11c198",
   "metadata": {},
   "source": [
    "If you create a variable with the same name inside a function, this variable will be local, and can only be used inside the function. The global variable with the same name will remain as it was, global and with the original value.\n",
    "\n"
   ]
  },
  {
   "cell_type": "code",
   "execution_count": 15,
   "id": "53de3405",
   "metadata": {},
   "outputs": [
    {
     "name": "stdout",
     "output_type": "stream",
     "text": [
      "Local x\n",
      "Global x\n"
     ]
    }
   ],
   "source": [
    "x=\"Global x\"\n",
    "\n",
    "def func():\n",
    "    x=\"Local x\"\n",
    "    print(x)\n",
    "\n",
    "func()\n",
    "print(x)"
   ]
  },
  {
   "cell_type": "markdown",
   "id": "db76e966",
   "metadata": {},
   "source": [
    "The global Keyword\n",
    "\n",
    "Normally, when you create a variable inside a function, that variable is local, and can only be used inside that function.\n",
    "\n",
    "To create a global variable inside a function, you can use the global keyword.\n"
   ]
  },
  {
   "cell_type": "code",
   "execution_count": 16,
   "id": "227fa091",
   "metadata": {},
   "outputs": [
    {
     "name": "stdout",
     "output_type": "stream",
     "text": [
      "Surya\n"
     ]
    }
   ],
   "source": [
    "def myfunc():\n",
    "    global x\n",
    "    x=\"Surya\"\n",
    "\n",
    "myfunc()\n",
    "print(x)"
   ]
  },
  {
   "cell_type": "code",
   "execution_count": null,
   "id": "fbba3c52",
   "metadata": {},
   "outputs": [],
   "source": []
  }
 ],
 "metadata": {
  "kernelspec": {
   "display_name": "base",
   "language": "python",
   "name": "python3"
  },
  "language_info": {
   "codemirror_mode": {
    "name": "ipython",
    "version": 3
   },
   "file_extension": ".py",
   "mimetype": "text/x-python",
   "name": "python",
   "nbconvert_exporter": "python",
   "pygments_lexer": "ipython3",
   "version": "3.13.5"
  }
 },
 "nbformat": 4,
 "nbformat_minor": 5
}
